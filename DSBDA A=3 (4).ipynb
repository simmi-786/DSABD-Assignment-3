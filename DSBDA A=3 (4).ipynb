{
 "cells": [
  {
   "cell_type": "code",
   "execution_count": null,
   "id": "a5132be9",
   "metadata": {},
   "outputs": [],
   "source": [
    "import pandas as pd\n",
    "import numpy as np\n",
    "import matplotlib.pyplot as plt"
   ]
  },
  {
   "cell_type": "code",
   "execution_count": null,
   "id": "8d2ecc01",
   "metadata": {},
   "outputs": [],
   "source": [
    "df=pd.read_csv(\"C:/Users/coeco/Downloads/Assign_3_Mall_Customers.csv\")"
   ]
  },
  {
   "cell_type": "code",
   "execution_count": null,
   "id": "2d5e22b6",
   "metadata": {},
   "outputs": [],
   "source": [
    "df1=df\n",
    "df2=df1\n",
    "df3=df\n",
    "df4=df"
   ]
  },
  {
   "cell_type": "code",
   "execution_count": null,
   "id": "0a8c9753",
   "metadata": {},
   "outputs": [],
   "source": [
    "df"
   ]
  },
  {
   "cell_type": "code",
   "execution_count": null,
   "id": "ac5610db",
   "metadata": {},
   "outputs": [],
   "source": [
    "df.columns"
   ]
  },
  {
   "cell_type": "code",
   "execution_count": null,
   "id": "d2311b86",
   "metadata": {},
   "outputs": [],
   "source": [
    "print(df['Salary'].mean())"
   ]
  },
  {
   "cell_type": "code",
   "execution_count": null,
   "id": "43e22a92",
   "metadata": {},
   "outputs": [],
   "source": [
    "print(df['Salary'].mode())"
   ]
  },
  {
   "cell_type": "code",
   "execution_count": null,
   "id": "8ec3d0ab",
   "metadata": {},
   "outputs": [],
   "source": [
    "print(df['Salary'].median())"
   ]
  },
  {
   "cell_type": "code",
   "execution_count": null,
   "id": "b3371013",
   "metadata": {},
   "outputs": [],
   "source": [
    "print(df['CustomerID'].mean())"
   ]
  },
  {
   "cell_type": "code",
   "execution_count": null,
   "id": "8c7cf63c",
   "metadata": {},
   "outputs": [],
   "source": [
    "print(df['CustomerID'].mode())"
   ]
  },
  {
   "cell_type": "code",
   "execution_count": null,
   "id": "04f51439",
   "metadata": {},
   "outputs": [],
   "source": [
    "print(df['CustomerID'].median())"
   ]
  },
  {
   "cell_type": "code",
   "execution_count": null,
   "id": "4cfacd4d",
   "metadata": {},
   "outputs": [],
   "source": [
    "print(df['Gender'].mode())"
   ]
  },
  {
   "cell_type": "code",
   "execution_count": null,
   "id": "10975ab6",
   "metadata": {},
   "outputs": [],
   "source": [
    "print(df['Age Group'].mode())"
   ]
  },
  {
   "cell_type": "code",
   "execution_count": null,
   "id": "4a2fb1fb",
   "metadata": {},
   "outputs": [],
   "source": [
    "print(df['Age'].mean())"
   ]
  },
  {
   "cell_type": "code",
   "execution_count": null,
   "id": "eaf2e715",
   "metadata": {},
   "outputs": [],
   "source": [
    "print(df['Age'].mode())"
   ]
  },
  {
   "cell_type": "code",
   "execution_count": null,
   "id": "87536fb0",
   "metadata": {},
   "outputs": [],
   "source": [
    "print(df['Age'].median())"
   ]
  },
  {
   "cell_type": "code",
   "execution_count": null,
   "id": "78c21e09",
   "metadata": {},
   "outputs": [],
   "source": [
    "print(df['Spending Score (1-100)'].mean())"
   ]
  },
  {
   "cell_type": "code",
   "execution_count": null,
   "id": "ed836d66",
   "metadata": {},
   "outputs": [],
   "source": [
    "print(df['Spending Score (1-100)'].mode())"
   ]
  },
  {
   "cell_type": "code",
   "execution_count": null,
   "id": "792372c1",
   "metadata": {},
   "outputs": [],
   "source": [
    "print(df['Spending Score (1-100)'].median())"
   ]
  },
  {
   "cell_type": "code",
   "execution_count": null,
   "id": "2e6f8867",
   "metadata": {},
   "outputs": [],
   "source": [
    "df['CustomerID']"
   ]
  },
  {
   "cell_type": "code",
   "execution_count": null,
   "id": "a3c61e3e",
   "metadata": {},
   "outputs": [],
   "source": [
    "df['Gender']"
   ]
  },
  {
   "cell_type": "code",
   "execution_count": null,
   "id": "997bb2bf",
   "metadata": {},
   "outputs": [],
   "source": [
    "df['Age Group']"
   ]
  },
  {
   "cell_type": "code",
   "execution_count": null,
   "id": "2717f589",
   "metadata": {},
   "outputs": [],
   "source": [
    "df['Age']"
   ]
  },
  {
   "cell_type": "code",
   "execution_count": null,
   "id": "7d2713b9",
   "metadata": {},
   "outputs": [],
   "source": [
    "df['Salary']"
   ]
  },
  {
   "cell_type": "code",
   "execution_count": null,
   "id": "ca503190",
   "metadata": {},
   "outputs": [],
   "source": [
    "df['Spending Score (1-100)']"
   ]
  },
  {
   "cell_type": "code",
   "execution_count": null,
   "id": "cf5ed0bc",
   "metadata": {},
   "outputs": [],
   "source": [
    "df.isnull()"
   ]
  },
  {
   "cell_type": "code",
   "execution_count": null,
   "id": "57e87b15",
   "metadata": {},
   "outputs": [],
   "source": [
    "df.isnull().sum()"
   ]
  },
  {
   "cell_type": "code",
   "execution_count": null,
   "id": "53903062",
   "metadata": {},
   "outputs": [],
   "source": [
    "df.describe()"
   ]
  },
  {
   "cell_type": "code",
   "execution_count": null,
   "id": "a06157ff",
   "metadata": {},
   "outputs": [],
   "source": [
    "df2.head()"
   ]
  },
  {
   "cell_type": "code",
   "execution_count": null,
   "id": "b2c01dd9",
   "metadata": {},
   "outputs": [],
   "source": [
    "df1.head()"
   ]
  },
  {
   "cell_type": "code",
   "execution_count": null,
   "id": "da0f648e",
   "metadata": {},
   "outputs": [],
   "source": [
    "df3.head()"
   ]
  },
  {
   "cell_type": "code",
   "execution_count": null,
   "id": "93e1980c",
   "metadata": {},
   "outputs": [],
   "source": [
    "df4.head()"
   ]
  },
  {
   "cell_type": "code",
   "execution_count": null,
   "id": "d5a0ba61",
   "metadata": {},
   "outputs": [],
   "source": [
    "df.replace(to_replace=np.nan,value=80)"
   ]
  },
  {
   "cell_type": "code",
   "execution_count": null,
   "id": "3c07d865",
   "metadata": {},
   "outputs": [],
   "source": [
    "df.info()"
   ]
  },
  {
   "cell_type": "code",
   "execution_count": null,
   "id": "fbbe0a22",
   "metadata": {},
   "outputs": [],
   "source": [
    "print(df.shape)"
   ]
  },
  {
   "cell_type": "code",
   "execution_count": null,
   "id": "e796e277",
   "metadata": {},
   "outputs": [],
   "source": [
    "print(df.head(20))"
   ]
  },
  {
   "cell_type": "code",
   "execution_count": null,
   "id": "656589f5",
   "metadata": {},
   "outputs": [],
   "source": [
    "df['Age Group'].value_counts(normalize=True)"
   ]
  },
  {
   "cell_type": "code",
   "execution_count": null,
   "id": "71877d43",
   "metadata": {},
   "outputs": [],
   "source": [
    "df['CustomerID'].value_counts(normalize=True)"
   ]
  },
  {
   "cell_type": "code",
   "execution_count": null,
   "id": "738abec1",
   "metadata": {},
   "outputs": [],
   "source": [
    "df['Gender'].value_counts(normalize=True)"
   ]
  },
  {
   "cell_type": "code",
   "execution_count": null,
   "id": "b8ad6ee3",
   "metadata": {},
   "outputs": [],
   "source": [
    "df['Age'].value_counts(normalize=True)"
   ]
  },
  {
   "cell_type": "code",
   "execution_count": null,
   "id": "2dd5a141",
   "metadata": {},
   "outputs": [],
   "source": [
    "df['Salary'].value_counts(normalize=True)"
   ]
  },
  {
   "cell_type": "code",
   "execution_count": null,
   "id": "9b27978c",
   "metadata": {},
   "outputs": [],
   "source": [
    "df['Spending Score (1-100)'].value_counts(normalize=True)"
   ]
  },
  {
   "cell_type": "code",
   "execution_count": null,
   "id": "2cf26351",
   "metadata": {},
   "outputs": [],
   "source": [
    "df = pd.DataFrame([['Male', 19, 15],\n",
    "                  ['Female', 22, 17],\n",
    "                  ['Female', 35, 21]])\n",
    "df.columns = ['Gender','Age','Salary']\n",
    "df.head()"
   ]
  },
  {
   "cell_type": "code",
   "execution_count": null,
   "id": "8df9e38c",
   "metadata": {},
   "outputs": [],
   "source": [
    "df=pd.read_csv(\"C:/Users/coeco/Downloads/Assign_3_Mall_Customers.csv\")"
   ]
  },
  {
   "cell_type": "code",
   "execution_count": null,
   "id": "eb0a78d0",
   "metadata": {},
   "outputs": [],
   "source": [
    "df[['CustomerID','Salary']].mean()"
   ]
  },
  {
   "cell_type": "code",
   "execution_count": null,
   "id": "0e8ca6f0",
   "metadata": {},
   "outputs": [],
   "source": [
    "df[['CustomerID','Gender','Age Group','Age','Salary','Spending Score (1-100)']].min()"
   ]
  },
  {
   "cell_type": "code",
   "execution_count": null,
   "id": "7166d816",
   "metadata": {},
   "outputs": [],
   "source": [
    "df[['CustomerID','Spending Score (1-100)']].median()"
   ]
  },
  {
   "cell_type": "code",
   "execution_count": null,
   "id": "780f8a70",
   "metadata": {},
   "outputs": [],
   "source": [
    "df[['CustomerID','Gender','Age Group','Age','Salary','Spending Score (1-100)']].max()"
   ]
  },
  {
   "cell_type": "code",
   "execution_count": null,
   "id": "a938a516",
   "metadata": {},
   "outputs": [],
   "source": [
    "df[['Salary','Spending Score (1-100)']].std()"
   ]
  },
  {
   "cell_type": "code",
   "execution_count": null,
   "id": "f1c413a6",
   "metadata": {},
   "outputs": [],
   "source": [
    "df2=df.groupby('Gender')"
   ]
  },
  {
   "cell_type": "code",
   "execution_count": null,
   "id": "22d633c3",
   "metadata": {},
   "outputs": [],
   "source": [
    "df2"
   ]
  },
  {
   "cell_type": "code",
   "execution_count": null,
   "id": "aaf71f21",
   "metadata": {},
   "outputs": [],
   "source": [
    "for Gender,Gender_f in df2:\n",
    "    print(Gender)\n",
    "    print(Gender_f)"
   ]
  },
  {
   "cell_type": "code",
   "execution_count": null,
   "id": "f34c5479",
   "metadata": {},
   "outputs": [],
   "source": [
    "df2.get_group('Female')"
   ]
  },
  {
   "cell_type": "code",
   "execution_count": null,
   "id": "559141af",
   "metadata": {},
   "outputs": [],
   "source": [
    "df2.get_group('Male')"
   ]
  },
  {
   "cell_type": "code",
   "execution_count": null,
   "id": "dc56a373",
   "metadata": {},
   "outputs": [],
   "source": [
    "df2[['CustomerID','Gender','Age Group','Age','Salary','Spending Score (1-100)']].max()"
   ]
  },
  {
   "cell_type": "code",
   "execution_count": null,
   "id": "5c3e2295",
   "metadata": {},
   "outputs": [],
   "source": [
    "df2[['CustomerID','Gender','Age Group','Age','Salary','Spending Score (1-100)']].min()"
   ]
  },
  {
   "cell_type": "code",
   "execution_count": null,
   "id": "d2699965",
   "metadata": {},
   "outputs": [],
   "source": [
    "df2[['CustomerID','Gender','Age Group','Age','Salary','Spending Score (1-100)']].mean()"
   ]
  },
  {
   "cell_type": "code",
   "execution_count": null,
   "id": "98dc0101",
   "metadata": {},
   "outputs": [],
   "source": [
    "df2[['CustomerID','Gender','Age Group','Age','Salary','Spending Score (1-100)']].std()"
   ]
  },
  {
   "cell_type": "code",
   "execution_count": null,
   "id": "dfd25709",
   "metadata": {},
   "outputs": [],
   "source": [
    "a=np.percentile(df3['Age'],50)"
   ]
  },
  {
   "cell_type": "code",
   "execution_count": null,
   "id": "050213b5",
   "metadata": {},
   "outputs": [],
   "source": [
    "a"
   ]
  },
  {
   "cell_type": "code",
   "execution_count": null,
   "id": "3ee6146c",
   "metadata": {},
   "outputs": [],
   "source": [
    "import numpy as np\n",
    "import pandas as pd"
   ]
  },
  {
   "cell_type": "code",
   "execution_count": null,
   "id": "5773b08f",
   "metadata": {},
   "outputs": [],
   "source": [
    "df=pd.read_csv(\"C:/Users/coeco/Downloads/Assign_3_Mall_Customers.csv\")"
   ]
  },
  {
   "cell_type": "code",
   "execution_count": null,
   "id": "45a7d17b",
   "metadata": {},
   "outputs": [],
   "source": [
    "df"
   ]
  },
  {
   "cell_type": "code",
   "execution_count": null,
   "id": "6a39a601",
   "metadata": {},
   "outputs": [],
   "source": [
    "data = {\n",
    "    \"MaleOrFemale\" : [\n",
    "        \"Male\",\n",
    "        \"Female\",\n",
    "        \"Male\",\n",
    "        \"Female\",\n",
    "        \"Male\",\n",
    "        \"Female\",\n",
    "        \"Male\",\n",
    "        \"Male\",\n",
    "        \"Female\",\n",
    "        \"Female\",\n",
    "        \"Male\",\n",
    "        \"Male\",\n",
    "    ],\n",
    "    \"Age\" : [25, 64, 57, 62, 70, 25, 34, 57, 62, 70, 62, 70],\n",
    "}"
   ]
  },
  {
   "cell_type": "code",
   "execution_count": null,
   "id": "36f067de",
   "metadata": {},
   "outputs": [],
   "source": [
    "df = pd.DataFrame(data, columns = ['MaleOrFemale', 'Age'])"
   ]
  },
  {
   "cell_type": "code",
   "execution_count": null,
   "id": "54620337",
   "metadata": {},
   "outputs": [],
   "source": [
    "df"
   ]
  },
  {
   "cell_type": "code",
   "execution_count": null,
   "id": "b0d69dac",
   "metadata": {},
   "outputs": [],
   "source": [
    "groupby_gender = df['Age'].groupby(df['MaleOrFemale'])\n",
    "groupby_gender"
   ]
  },
  {
   "cell_type": "code",
   "execution_count": null,
   "id": "736db399",
   "metadata": {},
   "outputs": [],
   "source": [
    "len(list(df['Age'].groupby(df['MaleOrFemale'])))"
   ]
  },
  {
   "cell_type": "code",
   "execution_count": null,
   "id": "0d6a9f50",
   "metadata": {},
   "outputs": [],
   "source": [
    "list(df['Age'].groupby(df['MaleOrFemale']))"
   ]
  },
  {
   "cell_type": "code",
   "execution_count": null,
   "id": "c4d9d637",
   "metadata": {},
   "outputs": [],
   "source": [
    "df.groupby(['MaleOrFemale']).agg(\n",
    " {\n",
    "     \"Age\": ['sum', 'max', 'mean', lambda x: x.max() -x.min()]\n",
    " })"
   ]
  },
  {
   "cell_type": "code",
   "execution_count": null,
   "id": "ae4d42e3",
   "metadata": {},
   "outputs": [],
   "source": [
    "df.groupby(['MaleOrFemale']).agg(\n",
    " {\n",
    "     \"Age\": ['sum', 'max', 'mean', lambda x: x.max() -x.mode()]\n",
    " })"
   ]
  },
  {
   "cell_type": "code",
   "execution_count": null,
   "id": "6482a61f",
   "metadata": {},
   "outputs": [],
   "source": [
    "df.groupby(['MaleOrFemale']).agg(\n",
    " {\n",
    "     \"Age\": ['sum', 'max', 'mean', lambda x: x.max() -x.median()]\n",
    " })"
   ]
  },
  {
   "cell_type": "code",
   "execution_count": null,
   "id": "056e504b",
   "metadata": {},
   "outputs": [],
   "source": [
    "list(df['Age'].groupby(df['MaleOrFemale']))"
   ]
  },
  {
   "cell_type": "code",
   "execution_count": null,
   "id": "088397d8",
   "metadata": {},
   "outputs": [],
   "source": [
    "len(list(df['Age'].groupby(df['MaleOrFemale']))[0])"
   ]
  },
  {
   "cell_type": "code",
   "execution_count": null,
   "id": "e9806a88",
   "metadata": {},
   "outputs": [],
   "source": [
    "list(df['Age'].groupby(df['MaleOrFemale']))[0][1]"
   ]
  },
  {
   "cell_type": "code",
   "execution_count": null,
   "id": "3fffa196",
   "metadata": {},
   "outputs": [],
   "source": [
    "max(list(df['Age'].groupby(df['MaleOrFemale']))[0][1])"
   ]
  },
  {
   "cell_type": "code",
   "execution_count": null,
   "id": "86a26330",
   "metadata": {},
   "outputs": [],
   "source": [
    "np.average(list(df['Age'].groupby(df['MaleOrFemale']))[0][1])"
   ]
  },
  {
   "cell_type": "code",
   "execution_count": null,
   "id": "025c20a6",
   "metadata": {},
   "outputs": [],
   "source": [
    "data = {\n",
    "    \"MaleOrFemale\" : [\n",
    "        \"Male\",\n",
    "        \"Female\",\n",
    "        \"Male\",\n",
    "        \"Female\",\n",
    "        \"Male\",\n",
    "        \"Female\",\n",
    "        \"Male\",\n",
    "        \"Male\",\n",
    "        \"Female\",\n",
    "        \"Female\",\n",
    "        \"Male\",\n",
    "        \"Male\",\n",
    "    ],\n",
    "    \"Salary\" : [34, 64, 57, 85, 56, 25, 94, 57, 62, 70, 92, 60],\n",
    "}"
   ]
  },
  {
   "cell_type": "code",
   "execution_count": null,
   "id": "65586da3",
   "metadata": {},
   "outputs": [],
   "source": [
    "df = pd.DataFrame(data, columns = ['MaleOrFemale', 'Salary'])"
   ]
  },
  {
   "cell_type": "code",
   "execution_count": null,
   "id": "663bafd3",
   "metadata": {},
   "outputs": [],
   "source": [
    "df"
   ]
  },
  {
   "cell_type": "code",
   "execution_count": null,
   "id": "76702b40",
   "metadata": {},
   "outputs": [],
   "source": [
    "groupby_gender = df['MaleOrFemale'].groupby(df['Salary'])\n",
    "print(groupby_gender)"
   ]
  },
  {
   "cell_type": "code",
   "execution_count": null,
   "id": "0623f518",
   "metadata": {},
   "outputs": [],
   "source": [
    "len(list(df['Salary'].groupby(df['MaleOrFemale'])))"
   ]
  },
  {
   "cell_type": "code",
   "execution_count": null,
   "id": "cff6b65d",
   "metadata": {},
   "outputs": [],
   "source": [
    "list(df['Salary'].groupby(df['MaleOrFemale']))"
   ]
  },
  {
   "cell_type": "code",
   "execution_count": null,
   "id": "ae9a4345",
   "metadata": {},
   "outputs": [],
   "source": [
    "df.groupby(['MaleOrFemale']).agg(\n",
    " {\n",
    "     \"Salary\": ['sum', 'max', 'mean', lambda x: x.max() -x.min()]\n",
    " })"
   ]
  },
  {
   "cell_type": "code",
   "execution_count": null,
   "id": "5bcb64a3",
   "metadata": {},
   "outputs": [],
   "source": [
    "df.groupby(['MaleOrFemale']).agg(\n",
    " {\n",
    "     \"Salary\": ['sum', 'max', 'mean', lambda x: x.max() -x.median()]\n",
    " })"
   ]
  },
  {
   "cell_type": "code",
   "execution_count": null,
   "id": "7ec0f31a",
   "metadata": {},
   "outputs": [],
   "source": [
    "list(df['Salary'].groupby(df['MaleOrFemale']))"
   ]
  },
  {
   "cell_type": "code",
   "execution_count": null,
   "id": "5adfed68",
   "metadata": {},
   "outputs": [],
   "source": [
    "len(list(df['Salary'].groupby(df['MaleOrFemale']))[0])"
   ]
  },
  {
   "cell_type": "code",
   "execution_count": null,
   "id": "9c0449d5",
   "metadata": {},
   "outputs": [],
   "source": [
    "list(df['Salary'].groupby(df['MaleOrFemale']))[0][1]"
   ]
  },
  {
   "cell_type": "code",
   "execution_count": null,
   "id": "7bebd41e",
   "metadata": {},
   "outputs": [],
   "source": [
    "sum(list(df['Salary'].groupby(df['MaleOrFemale']))[0][1])"
   ]
  },
  {
   "cell_type": "code",
   "execution_count": null,
   "id": "cfd47518",
   "metadata": {},
   "outputs": [],
   "source": [
    "max(list(df['Salary'].groupby(df['MaleOrFemale']))[0][1])"
   ]
  },
  {
   "cell_type": "code",
   "execution_count": null,
   "id": "c277e023",
   "metadata": {},
   "outputs": [],
   "source": [
    "np.average(list(df['Salary'].groupby(df['MaleOrFemale']))[0][1])"
   ]
  },
  {
   "cell_type": "code",
   "execution_count": 16,
   "id": "8f33443e",
   "metadata": {},
   "outputs": [
    {
     "name": "stdout",
     "output_type": "stream",
     "text": [
      "The mean of all Salary ( [20, 35, 55, 67, 58] ) is 47.0\n"
     ]
    }
   ],
   "source": [
    "#mean\n",
    "Salary = [20, 35, 55, 67, 58]\n",
    "no = len(Salary)\n",
    "summ = sum(Salary)\n",
    "mean = summ / no\n",
    "print(\"The mean of all Salary (\", Salary, \") is\", str(mean))"
   ]
  },
  {
   "cell_type": "code",
   "execution_count": 17,
   "id": "67805684",
   "metadata": {},
   "outputs": [],
   "source": [
    "from collections import Counter"
   ]
  },
  {
   "cell_type": "code",
   "execution_count": 20,
   "id": "3bd9d271",
   "metadata": {},
   "outputs": [
    {
     "name": "stdout",
     "output_type": "stream",
     "text": [
      "The mode of a numb is / are: 55, 67\n"
     ]
    }
   ],
   "source": [
    "#mode\n",
    "Salary = [55, 35, 55, 67, 58, 67]\n",
    "no = len(Salary)\n",
    "val = Counter(Salary)\n",
    "findMode = dict(val)\n",
    "mode = [i for i, v in findMode.items() if v == max(list(val.values()))]  \n",
    "if len(mode) == no:\n",
    "    findMode = \"The group of numb do not have any mode\"\n",
    "else:\n",
    "    findMode = \"The mode of a numb is / are: \" +', '.join(map(str, mode))\n",
    "print(findMode)"
   ]
  },
  {
   "cell_type": "code",
   "execution_count": 15,
   "id": "fd902d3e",
   "metadata": {},
   "outputs": [
    {
     "name": "stdout",
     "output_type": "stream",
     "text": [
      "Median of all salary: 56.5\n"
     ]
    }
   ],
   "source": [
    "#median\n",
    "Salary = [55, 35, 55, 65, 58, 67]\n",
    "numb = len(Salary)\n",
    "Salary.sort()\n",
    " \n",
    "if numb % 2 == 0:\n",
    "    median1 = Salary[n//2]\n",
    "    median2 = Salary[n//2 - 1]\n",
    "    median = (median1 + median2)/2\n",
    "else:\n",
    "    median = salary[n//2]\n",
    "print(\"Median of all salary: \" + str(median))"
   ]
  },
  {
   "cell_type": "code",
   "execution_count": null,
   "id": "8db6fbfa",
   "metadata": {},
   "outputs": [],
   "source": []
  }
 ],
 "metadata": {
  "kernelspec": {
   "display_name": "Python 3 (ipykernel)",
   "language": "python",
   "name": "python3"
  },
  "language_info": {
   "codemirror_mode": {
    "name": "ipython",
    "version": 3
   },
   "file_extension": ".py",
   "mimetype": "text/x-python",
   "name": "python",
   "nbconvert_exporter": "python",
   "pygments_lexer": "ipython3",
   "version": "3.9.13"
  }
 },
 "nbformat": 4,
 "nbformat_minor": 5
}
